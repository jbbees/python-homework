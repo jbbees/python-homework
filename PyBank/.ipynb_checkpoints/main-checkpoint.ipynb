{
 "cells": [
  {
   "cell_type": "code",
   "execution_count": null,
   "id": "faced-ozone",
   "metadata": {},
   "outputs": [],
   "source": [
    "from pathlib import Path\n",
    "import csv\n",
    "\n",
    "csvpath = Path(\"Bootcamp/python-homework/PyBank/budget_data.csv\")   #passing a csv file into variable csvpath\n",
    "                                                   \n",
    "total_months = 0\n",
    "total_profits = 0\n",
    "average = 0\n",
    "\n",
    "with open(csvpath, 'r') as csv_file_object:     #open the file stored in passed csvpath and store it as a file object.\n",
    "    line_num = 1\n",
    "\n",
    "    for line in csv_file_object:\n",
    "        line_num += 1\n",
    "        total_months += 1\n",
    "        total_profits +\n",
    "    \n",
    "    \n",
    "    \n",
    "\n",
    "budget_data = {}\n",
    "\n",
    "# define our starting variables \n",
    "\n",
    "total_months = 0\n",
    "total_profits = 0\n",
    "average = 0\n",
    "max_key = ' '                                  # this stores the date-key of the bank with the most earnings in budget.csv\n",
    "min_key = ' '                                  # this stores the date-key of the bank with the least earning in budget.csv\n",
    "max_profit = 0                                 # this stores the highest value on the budget.csv\n",
    "min_profit = 0                                 # this stores the lowest value on the budget.csv\n",
    "\n",
    "\n",
    "for date, earnings in budget_data.items():          # date is the key, earnings is the value-store for the key.\n",
    "    \n",
    "    total_months += 1\n",
    "    total_profits += earnings\n",
    "    average = round(total_profits / total_months, 2)\n",
    "    \n",
    "    # find the bank with the minimum profits\n",
    "    \n",
    "    if min_profit == 0:\n",
    "        min_profit = earnings\n",
    "        min_key = date\n",
    "    elif earnings < min_profit:\n",
    "        min_profit = earnings\n",
    "        min_key = date\n",
    "        \n",
    "    # find the bank with the maximum profits\n",
    "    \n",
    "    if earnings > max_profit:\n",
    "        max_profit = earnings\n",
    "        max_key = date\n",
    "        \n",
    "# PROGRAMMERS NOTE: I did not construe the assignment to be calculating profit/losses. \n",
    "# The csv file already has the profit/loss figures. All we're being asked to do is look at the csv file, find the highest $ amount, and the date,\n",
    "# and lowest $ amount and the date and display them. and calcuate the average of all the figures in the file.\n",
    "    \n",
    "    \n",
    "print(\"Financial Analysis\")\n",
    "print(f\"----------------------------\"\n",
    "print(f\"Total Months: {total_months}\")\n",
    "print(f\"Total: ${total_profits}\")\n",
    "print(f\"Average Change: ${average}\")\n",
    "print(f\"Greatest Increase in Profits {max_key} @ ${max_profit}\")\n",
    "print(f\"Greatest Decrease in Profits {min_key} @ ${min_profit}\")"
   ]
  },
  {
   "cell_type": "code",
   "execution_count": null,
   "id": "latin-start",
   "metadata": {},
   "outputs": [],
   "source": [
    "from pathlib import Path\n",
    "import csv"
   ]
  },
  {
   "cell_type": "code",
   "execution_count": 3,
   "id": "synthetic-virtue",
   "metadata": {},
   "outputs": [
    {
     "ename": "SyntaxError",
     "evalue": "invalid syntax (<ipython-input-3-d5f976b47dd7>, line 4)",
     "output_type": "error",
     "traceback": [
      "\u001b[1;36m  File \u001b[1;32m\"<ipython-input-3-d5f976b47dd7>\"\u001b[1;36m, line \u001b[1;32m4\u001b[0m\n\u001b[1;33m    csvpath = Path(./python-homework/Pybank/budget_data.csv)\u001b[0m\n\u001b[1;37m                   ^\u001b[0m\n\u001b[1;31mSyntaxError\u001b[0m\u001b[1;31m:\u001b[0m invalid syntax\n"
     ]
    }
   ],
   "source": [
    "# point to the target file in our directory, budget_datat.csv, and store that path in variable csvpath\n",
    "# note: my code only worked when using an absolute path from my C:/ drive it won't run on relative path.\n",
    "\n",
    "csv_path = Path(../python-homework/Pybank/budget_data.csv)"
   ]
  },
  {
   "cell_type": "code",
   "execution_count": null,
   "id": "concerned-singer",
   "metadata": {},
   "outputs": [],
   "source": [
    "# set variables \n",
    "\n",
    "total_months = 0\n",
    "total_profits = 0\n",
    "average = 0\n",
    "max_key = ' '\n",
    "min_key = ' '\n",
    "max_profit = 0\n",
    "min_profit = 0"
   ]
  },
  {
   "cell_type": "code",
   "execution_count": null,
   "id": "sharp-saturn",
   "metadata": {},
   "outputs": [],
   "source": [
    "with open(csv_path, \"r\") as csv_file_object:\n",
    "        reader = csv.reader(csv_file_object)         # read rhe contents of the csv file object and store contents in variable reader \n",
    "        header = next(reader)                        # \n",
    "        \n",
    "        total_months += 1\n",
    "        total_profits += profits\n",
    "        average = round(total_profits / total_months, 2)\n",
    "        \n",
    "        if mon"
   ]
  },
  {
   "cell_type": "code",
   "execution_count": null,
   "id": "forty-navigation",
   "metadata": {},
   "outputs": [],
   "source": [
    "## print results\n",
    "\n",
    "print(f\"Financial Analysis\")\n",
    "print(f\"----------------------------\")\n",
    "print(f\"Total Months: {total_months}\")\n",
    "print(f\"Total: ${total_profits}\")\n",
    "print(f\"Average Change: ${average}\")\n",
    "print(f\"Greatest Increase in Profits {max_key} @ ${max_profit}\")\n",
    "print(f\"Greatest Decrease in Profits {min_key} @ ${min_profit}\")"
   ]
  },
  {
   "cell_type": "code",
   "execution_count": 1,
   "id": "played-marble",
   "metadata": {},
   "outputs": [
    {
     "ename": "NameError",
     "evalue": "name 'Path' is not defined",
     "output_type": "error",
     "traceback": [
      "\u001b[1;31m---------------------------------------------------------------------------\u001b[0m",
      "\u001b[1;31mNameError\u001b[0m                                 Traceback (most recent call last)",
      "\u001b[1;32m<ipython-input-1-accf1bec6e61>\u001b[0m in \u001b[0;36m<module>\u001b[1;34m\u001b[0m\n\u001b[1;32m----> 1\u001b[1;33m \u001b[0mprint\u001b[0m\u001b[1;33m(\u001b[0m\u001b[1;34mf\"{Path.cwd()}\"\u001b[0m\u001b[1;33m)\u001b[0m\u001b[1;33m\u001b[0m\u001b[1;33m\u001b[0m\u001b[0m\n\u001b[0m\u001b[0;32m      2\u001b[0m \u001b[1;33m\u001b[0m\u001b[0m\n\u001b[0;32m      3\u001b[0m \u001b[1;31m#output_path = Path()\u001b[0m\u001b[1;33m\u001b[0m\u001b[1;33m\u001b[0m\u001b[1;33m\u001b[0m\u001b[0m\n\u001b[0;32m      4\u001b[0m \u001b[1;33m\u001b[0m\u001b[0m\n\u001b[0;32m      5\u001b[0m \u001b[1;31m#with open(output_path, \"w\") as file:\u001b[0m\u001b[1;33m\u001b[0m\u001b[1;33m\u001b[0m\u001b[1;33m\u001b[0m\u001b[0m\n",
      "\u001b[1;31mNameError\u001b[0m: name 'Path' is not defined"
     ]
    }
   ],
   "source": [
    "# sets the destination to write results to a file called output.txt.\n",
    "output_path = Path(../python-homework/Pybank/output.txt)\n",
    "\n",
    "# write the results to the output file. \n",
    "with open(output_path, \"w\") as file:\n",
    "    file.write(f\"Financial Analysis\"\\n)\n",
    "    file.write(f\"----------------------------\"\\n)\n",
    "    file.write(f\"Total Months: {total_months}\"\\n)\n",
    "    file.write(f\"Total: {total_profits}\"\\n)\n",
    "    file.write(f\"Average Change: ${average}\"\\n)\n",
    "    file.write(f\"Greatest Increase in Profits {max_key} @ ${max_profit}\"\\n)\n",
    "    file.write(f\"Greatest Decrease in Profits {min_key} @ ${min_profit}\"\\n)"
   ]
  },
  {
   "cell_type": "code",
   "execution_count": null,
   "id": "interpreted-marijuana",
   "metadata": {},
   "outputs": [],
   "source": []
  },
  {
   "cell_type": "code",
   "execution_count": null,
   "id": "million-scoop",
   "metadata": {},
   "outputs": [],
   "source": []
  }
 ],
 "metadata": {
  "kernelspec": {
   "display_name": "Python 3",
   "language": "python",
   "name": "python3"
  },
  "language_info": {
   "codemirror_mode": {
    "name": "ipython",
    "version": 3
   },
   "file_extension": ".py",
   "mimetype": "text/x-python",
   "name": "python",
   "nbconvert_exporter": "python",
   "pygments_lexer": "ipython3",
   "version": "3.9.1"
  }
 },
 "nbformat": 4,
 "nbformat_minor": 5
}
