{
 "cells": [
  {
   "cell_type": "code",
   "execution_count": null,
   "id": "recognized-warehouse",
   "metadata": {},
   "outputs": [],
   "source": [
    "from pathlib import Path\n",
    "import csv"
   ]
  },
  {
   "cell_type": "code",
   "execution_count": 1,
   "id": "complex-potential",
   "metadata": {},
   "outputs": [
    {
     "ename": "NameError",
     "evalue": "name 'Path' is not defined",
     "output_type": "error",
     "traceback": [
      "\u001b[1;31m---------------------------------------------------------------------------\u001b[0m",
      "\u001b[1;31mNameError\u001b[0m                                 Traceback (most recent call last)",
      "\u001b[1;32m<ipython-input-1-8d78a992e728>\u001b[0m in \u001b[0;36m<module>\u001b[1;34m\u001b[0m\n\u001b[0;32m      2\u001b[0m \u001b[1;31m# note: my code only worked when using an absolute path from my C:/ drive it won't run on relative path.\u001b[0m\u001b[1;33m\u001b[0m\u001b[1;33m\u001b[0m\u001b[1;33m\u001b[0m\u001b[0m\n\u001b[0;32m      3\u001b[0m \u001b[1;33m\u001b[0m\u001b[0m\n\u001b[1;32m----> 4\u001b[1;33m \u001b[0mcsv_path\u001b[0m \u001b[1;33m=\u001b[0m \u001b[0mPath\u001b[0m\u001b[1;33m(\u001b[0m\u001b[0mbudget_data\u001b[0m\u001b[1;33m.\u001b[0m\u001b[0mcsv\u001b[0m\u001b[1;33m)\u001b[0m\u001b[1;33m\u001b[0m\u001b[1;33m\u001b[0m\u001b[0m\n\u001b[0m",
      "\u001b[1;31mNameError\u001b[0m: name 'Path' is not defined"
     ]
    }
   ],
   "source": [
    "# point to the target file in our directory, budget_datat.csv, and store that path in variable csvpath\n",
    "# note: my code only worked when using an absolute path from my C:/ drive it won't run on relative path.\n",
    "\n",
    "csv_path = Path(\"../python-homework/PyBank/budget_data.csv\")"
   ]
  },
  {
   "cell_type": "code",
   "execution_count": null,
   "id": "chicken-cambridge",
   "metadata": {},
   "outputs": [],
   "source": [
    "# create lists\n",
    "\n",
    "total_months = 0                              # need total number of distinct months in dataset\n",
    "net_total_profits = 0                             # \n",
    "average = 0\n"
   ]
  },
  {
   "cell_type": "code",
   "execution_count": null,
   "id": "fatty-fitting",
   "metadata": {},
   "outputs": [],
   "source": [
    "with open(csv_path, \"r\") as csv_file_object:\n",
    "        reader = csv.reader(csv_file_object)         # read rhe contents of the csv file object and store contents in variable reader \n",
    "        header = next(reader)                        # not include the names of columns in the file\n",
    "        \n",
    "        total_months += 1\n",
    "        total_profits += profits\n",
    "        average = round(total_profits / total_months, 2)\n",
    "        line_num = 1\n",
    "        \n",
    "        for line in reader:\n",
    "            total_months += 1\n",
    "            net_total_profits += int(row[1])\n",
    "            \n",
    "            # you need to calculate greatest\n",
    "            if net_total_profits > \n",
    "            # you need to calculare least \n",
    "            \n",
    "            \n",
    "            line_num += 1"
   ]
  },
  {
   "cell_type": "code",
   "execution_count": null,
   "id": "chicken-perth",
   "metadata": {},
   "outputs": [],
   "source": [
    "## print results\n",
    "\n",
    "print(f\"Financial Analysis\")\n",
    "print(f\"----------------------------\")\n",
    "print(f\"Total Months: {total_months}\")\n",
    "print(f\"Total: ${total_profits}\")\n",
    "print(f\"Average Change: ${average}\")\n",
    "print(f\"Greatest Increase in Profits {max_key} @ ${max_profit}\")\n",
    "print(f\"Greatest Decrease in Profits {min_key} @ ${min_profit}\")"
   ]
  },
  {
   "cell_type": "code",
   "execution_count": 1,
   "id": "necessary-there",
   "metadata": {},
   "outputs": [
    {
     "ename": "NameError",
     "evalue": "name 'Path' is not defined",
     "output_type": "error",
     "traceback": [
      "\u001b[1;31m---------------------------------------------------------------------------\u001b[0m",
      "\u001b[1;31mNameError\u001b[0m                                 Traceback (most recent call last)",
      "\u001b[1;32m<ipython-input-1-accf1bec6e61>\u001b[0m in \u001b[0;36m<module>\u001b[1;34m\u001b[0m\n\u001b[1;32m----> 1\u001b[1;33m \u001b[0mprint\u001b[0m\u001b[1;33m(\u001b[0m\u001b[1;34mf\"{Path.cwd()}\"\u001b[0m\u001b[1;33m)\u001b[0m\u001b[1;33m\u001b[0m\u001b[1;33m\u001b[0m\u001b[0m\n\u001b[0m\u001b[0;32m      2\u001b[0m \u001b[1;33m\u001b[0m\u001b[0m\n\u001b[0;32m      3\u001b[0m \u001b[1;31m#output_path = Path()\u001b[0m\u001b[1;33m\u001b[0m\u001b[1;33m\u001b[0m\u001b[1;33m\u001b[0m\u001b[0m\n\u001b[0;32m      4\u001b[0m \u001b[1;33m\u001b[0m\u001b[0m\n\u001b[0;32m      5\u001b[0m \u001b[1;31m#with open(output_path, \"w\") as file:\u001b[0m\u001b[1;33m\u001b[0m\u001b[1;33m\u001b[0m\u001b[1;33m\u001b[0m\u001b[0m\n",
      "\u001b[1;31mNameError\u001b[0m: name 'Path' is not defined"
     ]
    }
   ],
   "source": [
    "# sets the destination to write results to a file called output.txt.\n",
    "output_path = Path(../python-homework/Pybank/output.txt)\n",
    "\n",
    "# write the results to the output file. \n",
    "with open(output_path, \"w\") as file:\n",
    "    file.write(f\"Financial Analysis\"\\n)\n",
    "    file.write(f\"----------------------------\"\\n)\n",
    "    file.write(f\"Total Months: {total_months}\"\\n)\n",
    "    file.write(f\"Total: {total_profits}\"\\n)\n",
    "    file.write(f\"Average Change: ${average}\"\\n)\n",
    "    file.write(f\"Greatest Increase in Profits {max_key} @ ${max_profit}\"\\n)\n",
    "    file.write(f\"Greatest Decrease in Profits {min_key} @ ${min_profit}\"\\n)"
   ]
  },
  {
   "cell_type": "code",
   "execution_count": null,
   "id": "cheap-poker",
   "metadata": {},
   "outputs": [],
   "source": []
  },
  {
   "cell_type": "code",
   "execution_count": null,
   "id": "instructional-insight",
   "metadata": {},
   "outputs": [],
   "source": []
  }
 ],
 "metadata": {
  "kernelspec": {
   "display_name": "Python 3",
   "language": "python",
   "name": "python3"
  },
  "language_info": {
   "codemirror_mode": {
    "name": "ipython",
    "version": 3
   },
   "file_extension": ".py",
   "mimetype": "text/x-python",
   "name": "python",
   "nbconvert_exporter": "python",
   "pygments_lexer": "ipython3",
   "version": "3.9.1"
  }
 },
 "nbformat": 4,
 "nbformat_minor": 5
}
